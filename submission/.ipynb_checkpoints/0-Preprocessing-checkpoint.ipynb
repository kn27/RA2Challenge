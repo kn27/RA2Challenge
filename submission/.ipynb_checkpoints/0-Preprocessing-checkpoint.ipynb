{
 "cells": [
  {
   "cell_type": "code",
   "execution_count": 1,
   "metadata": {},
   "outputs": [],
   "source": [
    "#%load_ext autoreload\n",
    "#%autoreload 2\n",
    "#%matplotlib inline"
   ]
  },
  {
   "cell_type": "code",
   "execution_count": 1,
   "metadata": {},
   "outputs": [],
   "source": [
    "handle = '/output'\n",
    "#handle = './output'"
   ]
  },
  {
   "cell_type": "code",
   "execution_count": 2,
   "metadata": {},
   "outputs": [],
   "source": [
    "from PIL import ImageOps, Image\n",
    "import PIL.ImageOps\n",
    "import piexif\n",
    "import os\n",
    "import shutil\n",
    "import logging"
   ]
  },
  {
   "cell_type": "code",
   "execution_count": 3,
   "metadata": {
    "scrolled": true
   },
   "outputs": [
    {
     "name": "stdout",
     "output_type": "stream",
     "text": [
      "/home/keane/git/RA2Challenge/submission\n",
      "['test', 'startup.py', '2-ErosionDetection.py', '3-NarrowingScore.py', 'train', '2-ErosionDetection.ipynb', '1-NarrowingDetection.py', 'data.py', '.~lock.training.csv#', 'run.sh', 'training.csv', '__pycache__', 'convert.sh', '5-Final.py', 'preprocessing.py', '1-NarrowingDetection.ipynb', '5-Final.ipynb', 'Dockerfile', '.ipynb_checkpoints', '0-Preprocessing.ipynb', '4-ErosionScore.py', 'models', 'old', 'model.py', '0-Preprocessing.py', '3-NarrowingScore.ipynb', 'output', '4-ErosionScore.ipynb', 'utils', 'pretrained_models']\n"
     ]
    }
   ],
   "source": [
    "print(os.getcwd())\n",
    "print(os.listdir())"
   ]
  },
  {
   "cell_type": "code",
   "execution_count": 4,
   "metadata": {},
   "outputs": [],
   "source": [
    "os.mkdir(handle + '/logs')\n",
    "os.mkdir(handle + '/test')\n",
    "os.mkdir(handle + '/test/narrowing_all')\n",
    "os.mkdir(handle + '/test/erosion_all')"
   ]
  },
  {
   "cell_type": "code",
   "execution_count": 5,
   "metadata": {},
   "outputs": [],
   "source": [
    "logger = logging.getLogger('0')\n",
    "hdlr = logging.FileHandler(handle + '/logs/0-preprocessing.log')\n",
    "formatter = logging.Formatter('[%(asctime)s][%(levelname)s]   %(message)s')\n",
    "hdlr.setFormatter(formatter)\n",
    "logger.addHandler(hdlr) \n",
    "logger.setLevel(logging.INFO)\n",
    "consoleHandler = logging.StreamHandler()\n",
    "consoleHandler.setFormatter(formatter)\n",
    "logger.addHandler(consoleHandler)"
   ]
  },
  {
   "cell_type": "code",
   "execution_count": 6,
   "metadata": {},
   "outputs": [
    {
     "name": "stderr",
     "output_type": "stream",
     "text": [
      "[2020-05-14 01:28:10,310][INFO]   ['test', 'logs']\n"
     ]
    }
   ],
   "source": [
    "logger.info(f'{os.listdir(handle)}')"
   ]
  },
  {
   "cell_type": "code",
   "execution_count": 7,
   "metadata": {},
   "outputs": [],
   "source": [
    "PATH = '/test' if handle == '/output' else './test'\n",
    "NEWPATH = handle + '/test/images'"
   ]
  },
  {
   "cell_type": "code",
   "execution_count": 8,
   "metadata": {
    "scrolled": true
   },
   "outputs": [
    {
     "name": "stderr",
     "output_type": "stream",
     "text": [
      "[2020-05-14 01:28:11,910][INFO]   Copy from ./test to ./output/test/images\n"
     ]
    }
   ],
   "source": [
    "if os.path.exists(NEWPATH):\n",
    "    shutil.rmtree(NEWPATH)\n",
    "shutil.copytree(PATH,NEWPATH)\n",
    "logger.info(f'Copy from {PATH} to {NEWPATH}')"
   ]
  },
  {
   "cell_type": "code",
   "execution_count": 9,
   "metadata": {},
   "outputs": [
    {
     "name": "stderr",
     "output_type": "stream",
     "text": [
      "[2020-05-14 01:28:13,173][INFO]   Done with preprocessing\n"
     ]
    }
   ],
   "source": [
    "temp = []\n",
    "for f in os.listdir(NEWPATH):\n",
    "    if not f.endswith('.jpg'):\n",
    "        os.remove(os.path.join(NEWPATH,f))\n",
    "        logger.info(f'Remove {f}')\n",
    "    else:\n",
    "        img = Image.open(os.path.join(NEWPATH, f))\n",
    "        exif_dict = piexif.load(os.path.join(NEWPATH, f))\n",
    "        if 274 not in exif_dict['0th']:\n",
    "            logger.info(f'No image metadata: {f}')\n",
    "        elif exif_dict['0th'][274] == 3:\n",
    "            exif_dict['0th'][274] = 1\n",
    "            exif_bytes = piexif.dump(exif_dict)\n",
    "            PIL.ImageOps.mirror(PIL.ImageOps.flip(img)).save(os.path.join(NEWPATH, f), 'jpeg')\n",
    "            piexif.insert(exif_bytes, os.path.join(NEWPATH, f))\n",
    "            logger.warning(f'Flipped: {f}')\n",
    "        elif exif_dict['0th'][274] != 1:\n",
    "            logger.warning(f'Check orientation: {f}')\n",
    "logger.info('Done with preprocessing')"
   ]
  },
  {
   "cell_type": "code",
   "execution_count": null,
   "metadata": {},
   "outputs": [],
   "source": []
  },
  {
   "cell_type": "code",
   "execution_count": null,
   "metadata": {},
   "outputs": [],
   "source": []
  },
  {
   "cell_type": "code",
   "execution_count": null,
   "metadata": {},
   "outputs": [],
   "source": []
  }
 ],
 "metadata": {
  "accelerator": "GPU",
  "colab": {
   "collapsed_sections": [],
   "name": "Copy of torchvision_finetuning_instance_segmentation.ipynb",
   "provenance": []
  },
  "kernelspec": {
   "display_name": "Python 3",
   "language": "python",
   "name": "python3"
  },
  "language_info": {
   "codemirror_mode": {
    "name": "ipython",
    "version": 3
   },
   "file_extension": ".py",
   "mimetype": "text/x-python",
   "name": "python",
   "nbconvert_exporter": "python",
   "pygments_lexer": "ipython3",
   "version": "3.7.4"
  },
  "widgets": {
   "application/vnd.jupyter.widget-state+json": {
    "0453a3e19be44d1d9bb80bfaeaf791c1": {
     "model_module": "@jupyter-widgets/base",
     "model_name": "LayoutModel",
     "state": {
      "_model_module": "@jupyter-widgets/base",
      "_model_module_version": "1.2.0",
      "_model_name": "LayoutModel",
      "_view_count": null,
      "_view_module": "@jupyter-widgets/base",
      "_view_module_version": "1.2.0",
      "_view_name": "LayoutView",
      "align_content": null,
      "align_items": null,
      "align_self": null,
      "border": null,
      "bottom": null,
      "display": null,
      "flex": null,
      "flex_flow": null,
      "grid_area": null,
      "grid_auto_columns": null,
      "grid_auto_flow": null,
      "grid_auto_rows": null,
      "grid_column": null,
      "grid_gap": null,
      "grid_row": null,
      "grid_template_areas": null,
      "grid_template_columns": null,
      "grid_template_rows": null,
      "height": null,
      "justify_content": null,
      "justify_items": null,
      "left": null,
      "margin": null,
      "max_height": null,
      "max_width": null,
      "min_height": null,
      "min_width": null,
      "object_fit": null,
      "object_position": null,
      "order": null,
      "overflow": null,
      "overflow_x": null,
      "overflow_y": null,
      "padding": null,
      "right": null,
      "top": null,
      "visibility": null,
      "width": null
     }
    },
    "4625f727c02b4bc390bc63e41a71f160": {
     "model_module": "@jupyter-widgets/base",
     "model_name": "LayoutModel",
     "state": {
      "_model_module": "@jupyter-widgets/base",
      "_model_module_version": "1.2.0",
      "_model_name": "LayoutModel",
      "_view_count": null,
      "_view_module": "@jupyter-widgets/base",
      "_view_module_version": "1.2.0",
      "_view_name": "LayoutView",
      "align_content": null,
      "align_items": null,
      "align_self": null,
      "border": null,
      "bottom": null,
      "display": null,
      "flex": null,
      "flex_flow": null,
      "grid_area": null,
      "grid_auto_columns": null,
      "grid_auto_flow": null,
      "grid_auto_rows": null,
      "grid_column": null,
      "grid_gap": null,
      "grid_row": null,
      "grid_template_areas": null,
      "grid_template_columns": null,
      "grid_template_rows": null,
      "height": null,
      "justify_content": null,
      "justify_items": null,
      "left": null,
      "margin": null,
      "max_height": null,
      "max_width": null,
      "min_height": null,
      "min_width": null,
      "object_fit": null,
      "object_position": null,
      "order": null,
      "overflow": null,
      "overflow_x": null,
      "overflow_y": null,
      "padding": null,
      "right": null,
      "top": null,
      "visibility": null,
      "width": null
     }
    },
    "49a6b019ee9640e4869de8a4a053abf1": {
     "model_module": "@jupyter-widgets/controls",
     "model_name": "HTMLModel",
     "state": {
      "_dom_classes": [],
      "_model_module": "@jupyter-widgets/controls",
      "_model_module_version": "1.5.0",
      "_model_name": "HTMLModel",
      "_view_count": null,
      "_view_module": "@jupyter-widgets/controls",
      "_view_module_version": "1.5.0",
      "_view_name": "HTMLView",
      "description": "",
      "description_tooltip": null,
      "layout": "IPY_MODEL_50a2d0864b2e4a3fba07236a9dc06ff8",
      "placeholder": "​",
      "style": "IPY_MODEL_8ad6c44dcacb4ea79dd9e26b0ff5188a",
      "value": " 160M/160M [00:40&lt;00:00, 4.11MB/s]"
     }
    },
    "50a2d0864b2e4a3fba07236a9dc06ff8": {
     "model_module": "@jupyter-widgets/base",
     "model_name": "LayoutModel",
     "state": {
      "_model_module": "@jupyter-widgets/base",
      "_model_module_version": "1.2.0",
      "_model_name": "LayoutModel",
      "_view_count": null,
      "_view_module": "@jupyter-widgets/base",
      "_view_module_version": "1.2.0",
      "_view_name": "LayoutView",
      "align_content": null,
      "align_items": null,
      "align_self": null,
      "border": null,
      "bottom": null,
      "display": null,
      "flex": null,
      "flex_flow": null,
      "grid_area": null,
      "grid_auto_columns": null,
      "grid_auto_flow": null,
      "grid_auto_rows": null,
      "grid_column": null,
      "grid_gap": null,
      "grid_row": null,
      "grid_template_areas": null,
      "grid_template_columns": null,
      "grid_template_rows": null,
      "height": null,
      "justify_content": null,
      "justify_items": null,
      "left": null,
      "margin": null,
      "max_height": null,
      "max_width": null,
      "min_height": null,
      "min_width": null,
      "object_fit": null,
      "object_position": null,
      "order": null,
      "overflow": null,
      "overflow_x": null,
      "overflow_y": null,
      "padding": null,
      "right": null,
      "top": null,
      "visibility": null,
      "width": null
     }
    },
    "8ad6c44dcacb4ea79dd9e26b0ff5188a": {
     "model_module": "@jupyter-widgets/controls",
     "model_name": "DescriptionStyleModel",
     "state": {
      "_model_module": "@jupyter-widgets/controls",
      "_model_module_version": "1.5.0",
      "_model_name": "DescriptionStyleModel",
      "_view_count": null,
      "_view_module": "@jupyter-widgets/base",
      "_view_module_version": "1.2.0",
      "_view_name": "StyleView",
      "description_width": ""
     }
    },
    "95305316dcd34c71ac1cb75c997c4b58": {
     "model_module": "@jupyter-widgets/controls",
     "model_name": "ProgressStyleModel",
     "state": {
      "_model_module": "@jupyter-widgets/controls",
      "_model_module_version": "1.5.0",
      "_model_name": "ProgressStyleModel",
      "_view_count": null,
      "_view_module": "@jupyter-widgets/base",
      "_view_module_version": "1.2.0",
      "_view_name": "StyleView",
      "bar_color": null,
      "description_width": "initial"
     }
    },
    "c63e1e5a3e59405f8a656259859d28c8": {
     "model_module": "@jupyter-widgets/controls",
     "model_name": "IntProgressModel",
     "state": {
      "_dom_classes": [],
      "_model_module": "@jupyter-widgets/controls",
      "_model_module_version": "1.5.0",
      "_model_name": "IntProgressModel",
      "_view_count": null,
      "_view_module": "@jupyter-widgets/controls",
      "_view_module_version": "1.5.0",
      "_view_name": "ProgressView",
      "bar_style": "success",
      "description": "100%",
      "description_tooltip": null,
      "layout": "IPY_MODEL_0453a3e19be44d1d9bb80bfaeaf791c1",
      "max": 167502836,
      "min": 0,
      "orientation": "horizontal",
      "style": "IPY_MODEL_95305316dcd34c71ac1cb75c997c4b58",
      "value": 167502836
     }
    },
    "cc3721079bb84b0182a2c194721b7405": {
     "model_module": "@jupyter-widgets/controls",
     "model_name": "HBoxModel",
     "state": {
      "_dom_classes": [],
      "_model_module": "@jupyter-widgets/controls",
      "_model_module_version": "1.5.0",
      "_model_name": "HBoxModel",
      "_view_count": null,
      "_view_module": "@jupyter-widgets/controls",
      "_view_module_version": "1.5.0",
      "_view_name": "HBoxView",
      "box_style": "",
      "children": [
       "IPY_MODEL_c63e1e5a3e59405f8a656259859d28c8",
       "IPY_MODEL_49a6b019ee9640e4869de8a4a053abf1"
      ],
      "layout": "IPY_MODEL_4625f727c02b4bc390bc63e41a71f160"
     }
    }
   }
  }
 },
 "nbformat": 4,
 "nbformat_minor": 1
}
