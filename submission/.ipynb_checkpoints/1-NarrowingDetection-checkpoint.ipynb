{
 "cells": [
  {
   "cell_type": "code",
   "execution_count": 1,
   "metadata": {},
   "outputs": [],
   "source": [
    "# %load_ext autoreload\n",
    "# %autoreload 2\n",
    "# %matplotlib inline"
   ]
  },
  {
   "cell_type": "code",
   "execution_count": 2,
   "metadata": {},
   "outputs": [],
   "source": [
    "handle = '/output'\n",
    "#handle = './output'"
   ]
  },
  {
   "cell_type": "code",
   "execution_count": 3,
   "metadata": {},
   "outputs": [],
   "source": [
    "# from matplotlib import pyplot as plt \n",
    "# from matplotlib import figure, colors\n",
    "# from matplotlib.patches import Rectangle\n",
    "#from data import visualize, visualize_multiple\n",
    "#import PIL.ExifTags\n",
    "#from PIL import ImageOpsimport xmltodict\n",
    "#from torchvision.transforms import functional as F\n",
    "#from engine import train_one_epoch\n",
    "\n",
    "import os\n",
    "import numpy as np\n",
    "import torch\n",
    "import torch.utils.data\n",
    "from PIL import Image\n",
    "import random\n",
    "\n",
    "from data import ID_TO_NAME_MAP_NARROWING as ID_TO_NAME_MAP, NAME_TO_ID_MAP_NARROWING as NAME_TO_ID_MAP, RADataSet\n",
    "from model import fasterrcnn_resnet50_fpn\n",
    "import utils.transforms, utils.datasets, utils.optimizer"
   ]
  },
  {
   "cell_type": "code",
   "execution_count": 4,
   "metadata": {},
   "outputs": [],
   "source": [
    "import logging\n",
    "logger = logging.getLogger('0')\n",
    "hdlr = logging.FileHandler(handle + '/logs/1-narrowingdetection.log')\n",
    "formatter = logging.Formatter('[%(asctime)s][%(levelname)s]   %(message)s')\n",
    "hdlr.setFormatter(formatter)\n",
    "logger.addHandler(hdlr) \n",
    "logger.setLevel(logging.INFO)\n",
    "consoleHandler = logging.StreamHandler()\n",
    "consoleHandler.setFormatter(formatter)\n",
    "logger.addHandler(consoleHandler)"
   ]
  },
  {
   "cell_type": "code",
   "execution_count": 5,
   "metadata": {
    "scrolled": true
   },
   "outputs": [
    {
     "name": "stderr",
     "output_type": "stream",
     "text": [
      "[2020-05-14 01:52:28,427][INFO]   INPUT:./output/test, OUTPUT:./output/test/narrowing_all, PRETRAIN_MODEL:./pretrained_models/saved_model_15_epochs_narrowing_full.txt\n"
     ]
    }
   ],
   "source": [
    "INPUT = handle + '/test'\n",
    "JOINTOUTPUT = handle + '/test/narrowing_all'\n",
    "#PRETRAIN_MODEL = './pretrained_model/saved_model_30_epochs_narrowing.txt'\n",
    "PRETRAIN_MODEL = './pretrained_models/saved_model_15_epochs_narrowing_full.txt'\n",
    "logger.info (f'INPUT:{INPUT}, OUTPUT:{JOINTOUTPUT}, PRETRAIN_MODEL:{PRETRAIN_MODEL}')"
   ]
  },
  {
   "cell_type": "code",
   "execution_count": 6,
   "metadata": {},
   "outputs": [
    {
     "name": "stdout",
     "output_type": "stream",
     "text": [
      "Set score = Narrowing\n"
     ]
    }
   ],
   "source": [
    "dataset = RADataSet(INPUT,transforms=utils.transforms.get_transform(train=True), score='Narrowing')\n",
    "dataloader = torch.utils.data.DataLoader(dataset, batch_size=1, num_workers=2, shuffle = False)"
   ]
  },
  {
   "cell_type": "code",
   "execution_count": 7,
   "metadata": {},
   "outputs": [
    {
     "name": "stderr",
     "output_type": "stream",
     "text": [
      "[2020-05-14 01:52:29,177][INFO]   Size of dataset: 8\n",
      "[2020-05-14 01:52:29,178][INFO]   Number of joints: 43\n"
     ]
    }
   ],
   "source": [
    "num_classes = len(ID_TO_NAME_MAP)\n",
    "logger.info(f'Size of dataset: {len(dataset)}')\n",
    "logger.info(f'Number of joints: {num_classes}')"
   ]
  },
  {
   "cell_type": "markdown",
   "metadata": {},
   "source": [
    "### Model "
   ]
  },
  {
   "cell_type": "code",
   "execution_count": 9,
   "metadata": {
    "scrolled": true
   },
   "outputs": [
    {
     "name": "stderr",
     "output_type": "stream",
     "text": [
      "[2020-05-14 01:56:03,753][INFO]   Device: cuda\n"
     ]
    }
   ],
   "source": [
    "device = torch.device('cuda') if torch.cuda.is_available() else torch.device('cpu')\n",
    "#device = 'cpu'\n",
    "model = fasterrcnn_resnet50_fpn(num_classes=num_classes,saved_model = PRETRAIN_MODEL)\n",
    "model.to(device);\n",
    "logger.info(f'Device: {device}')"
   ]
  },
  {
   "cell_type": "code",
   "execution_count": 10,
   "metadata": {},
   "outputs": [],
   "source": [
    "params = [p for p in model.parameters() if p.requires_grad]\n",
    "optimizer = torch.optim.SGD(params, lr=0.005, momentum=0.9, weight_decay=0.0005)\n",
    "lr_scheduler = torch.optim.lr_scheduler.StepLR(optimizer,\n",
    "                                               step_size=3,\n",
    "                                               gamma=0.1)"
   ]
  },
  {
   "cell_type": "code",
   "execution_count": 11,
   "metadata": {},
   "outputs": [],
   "source": [
    "#model.load_state_dict(torch.load(PRETRAIN_MODEL))"
   ]
  },
  {
   "cell_type": "markdown",
   "metadata": {},
   "source": [
    "### Inference"
   ]
  },
  {
   "cell_type": "code",
   "execution_count": 12,
   "metadata": {},
   "outputs": [],
   "source": [
    "def filter_prediction(prediction, threshold = 0.2, filter_labels = None):\n",
    "    if filter_labels is None:\n",
    "        filter_labels = np.array(prediction['labels'].cpu())\n",
    "    labels = np.array(prediction['labels'].cpu())\n",
    "    scores = np.array(prediction['scores'].cpu())\n",
    "    boxes = np.array(prediction['boxes'].cpu())\n",
    "    filtered_prediction = {'labels':[], 'scores':[], 'boxes':[]}\n",
    "    for label in set(filter_labels):\n",
    "        loc = np.where(labels == label)[0]\n",
    "        if len(loc) > 0: \n",
    "            label_scores = scores[loc]\n",
    "            if max(label_scores) > threshold:\n",
    "                box = boxes[loc[np.where(label_scores == max(label_scores))]]\n",
    "                filtered_prediction['labels'].append(label)\n",
    "                filtered_prediction['scores'].append(max(label_scores))\n",
    "                filtered_prediction['boxes'].append(box)\n",
    "    return filtered_prediction"
   ]
  },
  {
   "cell_type": "code",
   "execution_count": 13,
   "metadata": {
    "scrolled": true
   },
   "outputs": [
    {
     "name": "stderr",
     "output_type": "stream",
     "text": [
      "[2020-05-14 01:56:10,529][INFO]   Inference on image :1\n"
     ]
    }
   ],
   "source": [
    "predictions = []\n",
    "for i,image in enumerate(dataset.imgs):\n",
    "    if i %10 == 0:\n",
    "        logger.info(f'Inference on image :{i+1}')\n",
    "    img, label = dataset[i]\n",
    "    model.eval()\n",
    "    with torch.no_grad():\n",
    "        prediction = model([img.to(device)])\n",
    "    prediction = prediction[0]\n",
    "    predictions.append((i,prediction))"
   ]
  },
  {
   "cell_type": "code",
   "execution_count": 14,
   "metadata": {},
   "outputs": [],
   "source": [
    "# Investigate why do the images need to be of the same size ...?\n",
    "\n",
    "# predictions = []\n",
    "# for i,(img, _) in enumerate(dataloader):\n",
    "#     if i %10 == 0:\n",
    "#         logger.info(f'Inference on image :{i+1}')\n",
    "#     #img, label = dataset[i]\n",
    "#     model.eval()\n",
    "#     with torch.no_grad():\n",
    "#         prediction = model(img.to(device))\n",
    "#     prediction = prediction[0]\n",
    "#     predictions.append((i,prediction))"
   ]
  },
  {
   "cell_type": "code",
   "execution_count": 31,
   "metadata": {
    "scrolled": true
   },
   "outputs": [],
   "source": [
    "# # Randomly checking 9 images at a time\n",
    "# import random\n",
    "# idx = list(range(len(predictions)))\n",
    "# random.shuffle(idx)\n",
    "# fig,axes = plt.subplots(figsize = (120,210), dpi = 20, nrows = 3, ncols = 3)\n",
    "# axes = axes.flatten()\n",
    "# for i in range(9):\n",
    "#     j, prediction = predictions[idx[i]]\n",
    "#     print(f'Local ID: {idx[i]}, Global ID: {j}')\n",
    "#     img, label = dataset[j]\n",
    "#     visualize(img, prediction, True, ax = axes[i],erosion = False)"
   ]
  },
  {
   "cell_type": "code",
   "execution_count": 14,
   "metadata": {
    "scrolled": true
   },
   "outputs": [
    {
     "name": "stderr",
     "output_type": "stream",
     "text": [
      "[2020-05-14 01:56:31,993][INFO]   Apply filter at threshold = 0\n",
      "[2020-05-14 01:56:32,016][WARNING]   Number of underlabel images: 0\n",
      "[2020-05-14 01:56:32,017][WARNING]   Number of underlabel joints: 0\n",
      "[2020-05-14 01:56:32,018][WARNING]   Underlabels: {}\n"
     ]
    }
   ],
   "source": [
    "threshold = 0\n",
    "filtered_predictions = []\n",
    "underlabel = {}\n",
    "limbs = ['LH', 'RH', 'LF', 'RF']\n",
    "logger.info(f'Apply filter at threshold = {threshold}')\n",
    "for i,prediction in enumerate(predictions):\n",
    "    limb = [limb for limb in limbs if limb in dataset.imgs[i]][0]\n",
    "    LABELS = [NAME_TO_ID_MAP[x] for x in NAME_TO_ID_MAP.keys() if limb in x]\n",
    "    filtered_prediction = filter_prediction(prediction[1], 0, LABELS)\n",
    "    filtered_predictions.append((prediction[0], filtered_prediction))\n",
    "    if len(filtered_prediction['labels']) < len(LABELS):\n",
    "        underlabel[i] = set(LABELS) - set(filtered_prediction['labels'])\n",
    "logger.warning(f'Number of underlabel images: {len(underlabel)}')\n",
    "logger.warning(f'Number of underlabel joints: {len([y for x in underlabel.values() for y in x])}')\n",
    "logger.warning(f'Underlabels: {underlabel}')"
   ]
  },
  {
   "cell_type": "code",
   "execution_count": 15,
   "metadata": {
    "scrolled": true
   },
   "outputs": [
    {
     "data": {
      "text/plain": [
       "[(0,\n",
       "  {'labels': [1, 2, 3, 4, 5, 6],\n",
       "   'scores': [0.9995752, 0.997934, 0.99977916, 0.999154, 0.9991615, 0.9996013],\n",
       "   'boxes': [array([[751.0475 , 472.97815, 978.1929 , 691.133  ]], dtype=float32),\n",
       "    array([[605.6697 , 461.91925, 756.6019 , 633.7055 ]], dtype=float32),\n",
       "    array([[488.68716, 517.6373 , 622.1543 , 663.98004]], dtype=float32),\n",
       "    array([[365.69907, 582.4467 , 515.1158 , 746.4826 ]], dtype=float32),\n",
       "    array([[217.72668, 706.8419 , 373.02054, 863.5002 ]], dtype=float32),\n",
       "    array([[721.04236, 197.65367, 931.2133 , 363.33014]], dtype=float32)]}),\n",
       " (1,\n",
       "  {'labels': [7, 8, 9, 10, 11, 12, 13, 14, 15, 16, 17, 18, 19, 20, 21],\n",
       "   'scores': [0.997692,\n",
       "    0.9988123,\n",
       "    0.9124162,\n",
       "    0.9926454,\n",
       "    0.997246,\n",
       "    0.9949197,\n",
       "    0.92129195,\n",
       "    0.99440867,\n",
       "    0.99703276,\n",
       "    0.9991008,\n",
       "    0.9993167,\n",
       "    0.999711,\n",
       "    0.99936527,\n",
       "    0.9983209,\n",
       "    0.9985158],\n",
       "   'boxes': [array([[ 901.4681,  881.3938, 1055.224 , 1036.5289]], dtype=float32),\n",
       "    array([[707.8718 , 642.9351 , 850.3727 , 771.50104]], dtype=float32),\n",
       "    array([[554.6852 , 682.4893 , 692.87616, 795.1693 ]], dtype=float32),\n",
       "    array([[421.86154, 753.74664, 560.7873 , 862.569  ]], dtype=float32),\n",
       "    array([[294.50842, 812.39105, 429.35855, 945.405  ]], dtype=float32),\n",
       "    array([[705.6968 , 356.0273 , 824.98956, 462.6097 ]], dtype=float32),\n",
       "    array([[478.54877, 358.39218, 605.35547, 460.58698]], dtype=float32),\n",
       "    array([[277.9898 , 490.32233, 405.48953, 596.655  ]], dtype=float32),\n",
       "    array([[153.11075, 652.88556, 259.55167, 757.008  ]], dtype=float32),\n",
       "    array([[ 621.0012, 1227.7175,  731.775 , 1402.8644]], dtype=float32),\n",
       "    array([[ 565.5875, 1136.673 ,  687.7325, 1247.0209]], dtype=float32),\n",
       "    array([[ 490.8712, 1138.66  ,  610.8092, 1230.4752]], dtype=float32),\n",
       "    array([[ 434.7046, 1161.2567,  548.8303, 1264.4166]], dtype=float32),\n",
       "    array([[ 665.7084 , 1226.1958 ,  822.51294, 1385.3971 ]], dtype=float32),\n",
       "    array([[ 577.2646 , 1329.34   ,  795.96735, 1465.5685 ]], dtype=float32)]}),\n",
       " (2,\n",
       "  {'labels': [22, 23, 24, 25, 26, 27],\n",
       "   'scores': [0.99940014,\n",
       "    0.9992555,\n",
       "    0.9990971,\n",
       "    0.9993598,\n",
       "    0.999173,\n",
       "    0.9989998],\n",
       "   'boxes': [array([[176.07767, 516.49194, 385.2997 , 700.6442 ]], dtype=float32),\n",
       "    array([[380.19385, 489.7368 , 539.37616, 643.1086 ]], dtype=float32),\n",
       "    array([[511.62756, 539.49695, 643.3336 , 679.7904 ]], dtype=float32),\n",
       "    array([[623.89215, 597.57697, 771.34753, 743.94006]], dtype=float32),\n",
       "    array([[750.1346 , 710.46027, 908.1492 , 868.4437 ]], dtype=float32),\n",
       "    array([[202.2573 , 263.14468, 420.10236, 415.31982]], dtype=float32)]}),\n",
       " (3,\n",
       "  {'labels': [32, 33, 34, 35, 36, 37, 38, 39, 40, 41, 42, 28, 29, 30, 31],\n",
       "   'scores': [0.9982913,\n",
       "    0.9976299,\n",
       "    0.98713046,\n",
       "    0.9961702,\n",
       "    0.9958021,\n",
       "    0.9977723,\n",
       "    0.99532795,\n",
       "    0.9969035,\n",
       "    0.99870217,\n",
       "    0.9973117,\n",
       "    0.9981212,\n",
       "    0.9885632,\n",
       "    0.9766203,\n",
       "    0.5865661,\n",
       "    0.99920326],\n",
       "   'boxes': [array([[ 871.33496,  858.4292 , 1008.2052 ,  996.082  ]], dtype=float32),\n",
       "    array([[466.41315, 391.3929 , 603.5085 , 507.75244]], dtype=float32),\n",
       "    array([[688.937  , 388.7752 , 819.281  , 506.06433]], dtype=float32),\n",
       "    array([[ 870.7447 ,  507.5512 , 1014.61646,  630.44183]], dtype=float32),\n",
       "    array([[1055.7274,  713.4913, 1172.0107,  815.5584]], dtype=float32),\n",
       "    array([[ 555.88336, 1263.3506 ,  677.78503, 1428.9849 ]], dtype=float32),\n",
       "    array([[ 600.09937, 1172.2921 ,  723.3838 , 1286.0513 ]], dtype=float32),\n",
       "    array([[ 674.27423, 1160.4282 ,  788.61115, 1275.7341 ]], dtype=float32),\n",
       "    array([[ 730.7994, 1196.5559,  860.2184, 1314.3032]], dtype=float32),\n",
       "    array([[ 466.25677, 1265.552  ,  616.2754 , 1410.4493 ]], dtype=float32),\n",
       "    array([[ 500.74753, 1366.7253 ,  712.04114, 1506.1105 ]], dtype=float32),\n",
       "    array([[ 301.83478,  891.1213 ,  456.5902 , 1031.8884 ]], dtype=float32),\n",
       "    array([[456.62268, 669.1055 , 594.9073 , 804.5968 ]], dtype=float32),\n",
       "    array([[606.656  , 710.5233 , 751.61334, 838.48395]], dtype=float32),\n",
       "    array([[753.8925 , 773.6592 , 888.672  , 896.50586]], dtype=float32)]}),\n",
       " (4,\n",
       "  {'labels': [1, 2, 3, 4, 5, 6],\n",
       "   'scores': [0.9995291,\n",
       "    0.99910295,\n",
       "    0.99916184,\n",
       "    0.9990607,\n",
       "    0.99903274,\n",
       "    0.99972683],\n",
       "   'boxes': [array([[577.83624, 472.53528, 751.6837 , 643.026  ]], dtype=float32),\n",
       "    array([[422.78662, 445.84912, 547.8297 , 576.6745 ]], dtype=float32),\n",
       "    array([[323.48386, 479.62018, 437.7825 , 595.67206]], dtype=float32),\n",
       "    array([[226.10338, 524.1036 , 333.91275, 645.787  ]], dtype=float32),\n",
       "    array([[111.3417 , 604.365  , 229.80719, 739.6061 ]], dtype=float32),\n",
       "    array([[579.29614, 241.59508, 741.57526, 386.67023]], dtype=float32)]}),\n",
       " (5,\n",
       "  {'labels': [7, 8, 9, 10, 11, 12, 13, 14, 15, 16, 17, 18, 19, 20, 21],\n",
       "   'scores': [0.9977055,\n",
       "    0.9975859,\n",
       "    0.9961876,\n",
       "    0.9929149,\n",
       "    0.9973787,\n",
       "    0.9977556,\n",
       "    0.9697945,\n",
       "    0.99592376,\n",
       "    0.9985775,\n",
       "    0.9969694,\n",
       "    0.9990392,\n",
       "    0.9994406,\n",
       "    0.99882394,\n",
       "    0.9986879,\n",
       "    0.9980896],\n",
       "   'boxes': [array([[1000.85657, 1043.7146 , 1135.1094 , 1187.7374 ]], dtype=float32),\n",
       "    array([[811.85394, 782.6028 , 938.45184, 907.8228 ]], dtype=float32),\n",
       "    array([[660.72296, 780.81195, 786.5359 , 907.8373 ]], dtype=float32),\n",
       "    array([[531.4897 , 848.26764, 648.0106 , 974.5085 ]], dtype=float32),\n",
       "    array([[ 403.95316,  911.81146,  526.8385 , 1037.4348 ]], dtype=float32),\n",
       "    array([[837.88446, 491.63065, 945.2503 , 601.0425 ]], dtype=float32),\n",
       "    array([[670.8154 , 453.95563, 786.08234, 572.3936 ]], dtype=float32),\n",
       "    array([[474.02396, 557.6625 , 585.3102 , 669.8739 ]], dtype=float32),\n",
       "    array([[285.071 , 710.5172, 393.6864, 819.5576]], dtype=float32),\n",
       "    array([[ 690.7331, 1343.6775,  791.1831, 1505.5444]], dtype=float32),\n",
       "    array([[ 663.5346 , 1257.0918 ,  775.24915, 1361.6335 ]], dtype=float32),\n",
       "    array([[ 584.1196, 1247.5977,  697.14  , 1344.2834]], dtype=float32),\n",
       "    array([[ 523.55347, 1266.4325 ,  637.8719 , 1369.4984 ]], dtype=float32),\n",
       "    array([[ 736.7288 , 1341.4462 ,  861.55206, 1489.3055 ]], dtype=float32),\n",
       "    array([[ 645.7004 , 1446.7302 ,  859.86316, 1581.7113 ]], dtype=float32)]}),\n",
       " (6,\n",
       "  {'labels': [22, 23, 24, 25, 26, 27],\n",
       "   'scores': [0.99934596,\n",
       "    0.99976665,\n",
       "    0.99978083,\n",
       "    0.9987249,\n",
       "    0.99929714,\n",
       "    0.99969137],\n",
       "   'boxes': [array([[ 92.30237, 418.873  , 251.63632, 574.4104 ]], dtype=float32),\n",
       "    array([[273.81088, 403.82904, 385.83987, 534.6661 ]], dtype=float32),\n",
       "    array([[368.39957, 428.33176, 477.54013, 543.5047 ]], dtype=float32),\n",
       "    array([[460.4461, 463.5119, 578.2076, 595.0047]], dtype=float32),\n",
       "    array([[556.28705, 544.5112 , 685.3366 , 683.69   ]], dtype=float32),\n",
       "    array([[120.388725, 186.3565  , 275.10294 , 329.35086 ]], dtype=float32)]}),\n",
       " (7,\n",
       "  {'labels': [32, 33, 34, 35, 36, 37, 38, 39, 40, 41, 42, 28, 29, 30, 31],\n",
       "   'scores': [0.9981269,\n",
       "    0.99780244,\n",
       "    0.9931986,\n",
       "    0.9972109,\n",
       "    0.99874085,\n",
       "    0.9964778,\n",
       "    0.99573696,\n",
       "    0.9994024,\n",
       "    0.99954563,\n",
       "    0.99421364,\n",
       "    0.9983537,\n",
       "    0.99590296,\n",
       "    0.9980459,\n",
       "    0.9925384,\n",
       "    0.99839944],\n",
       "   'boxes': [array([[ 897.7348, 1041.5487, 1023.3038, 1164.2067]], dtype=float32),\n",
       "    array([[502.8553 , 592.0889 , 613.8488 , 701.92096]], dtype=float32),\n",
       "    array([[650.89496, 572.64795, 764.71533, 687.5644 ]], dtype=float32),\n",
       "    array([[850.2149, 681.8477, 960.3255, 793.7968]], dtype=float32),\n",
       "    array([[ 999.3753 ,  821.90936, 1104.4509 ,  923.16705]], dtype=float32),\n",
       "    array([[ 601.47577, 1454.326  ,  701.3964 , 1612.2228 ]], dtype=float32),\n",
       "    array([[ 632.36676, 1366.5555 ,  743.4179 , 1475.8188 ]], dtype=float32),\n",
       "    array([[ 704.4192, 1357.9474,  805.1569, 1460.5098]], dtype=float32),\n",
       "    array([[ 756.0733 , 1378.1661 ,  877.68634, 1496.6202 ]], dtype=float32),\n",
       "    array([[ 527.1041, 1454.8224,  654.4621, 1584.8693]], dtype=float32),\n",
       "    array([[ 540.5232, 1556.8909,  739.0579, 1688.1432]], dtype=float32),\n",
       "    array([[ 279.2471 , 1118.1433 ,  422.99005, 1255.9313 ]], dtype=float32),\n",
       "    array([[ 494.56448,  882.3922 ,  624.3357 , 1007.3625 ]], dtype=float32),\n",
       "    array([[ 643.6467 ,  904.843  ,  771.51526, 1029.8623 ]], dtype=float32),\n",
       "    array([[ 777.7089,  975.7389,  895.8347, 1095.8041]], dtype=float32)]})]"
      ]
     },
     "execution_count": 15,
     "metadata": {},
     "output_type": "execute_result"
    }
   ],
   "source": [
    "filtered_predictions"
   ]
  },
  {
   "cell_type": "code",
   "execution_count": 15,
   "metadata": {
    "scrolled": true
   },
   "outputs": [],
   "source": [
    "# # Randomly checking 9 images at a time\n",
    "# import random\n",
    "# #idx = list(range(len(filtered_predictions)))\n",
    "# idx = list(underlabel.keys())\n",
    "# random.shuffle(idx)\n",
    "# fig,axes = plt.subplots(figsize = (120,210), dpi = 20, nrows = 3, ncols = 3)\n",
    "# axes = axes.flatten()\n",
    "# for i in range(9):\n",
    "#     j, prediction = filtered_predictions[idx[i]]\n",
    "#     print(f'Local ID: {idx[i]}, Global ID: {j}')\n",
    "#     img, label = dataset[j]\n",
    "#     visualize(img, prediction, True, ax = axes[i],erosion = False)"
   ]
  },
  {
   "cell_type": "code",
   "execution_count": 16,
   "metadata": {},
   "outputs": [
    {
     "data": {
      "text/plain": [
       "8"
      ]
     },
     "execution_count": 16,
     "metadata": {},
     "output_type": "execute_result"
    }
   ],
   "source": [
    "len(predictions)"
   ]
  },
  {
   "cell_type": "markdown",
   "metadata": {},
   "source": [
    "### Write out joint images"
   ]
  },
  {
   "cell_type": "code",
   "execution_count": 17,
   "metadata": {},
   "outputs": [
    {
     "name": "stderr",
     "output_type": "stream",
     "text": [
      "[2020-05-10 02:05:59,063][INFO]   Wrote 6 joint images for UAB001-LF\n",
      "[2020-05-10 02:05:59,128][INFO]   Wrote 15 joint images for UAB001-LH\n",
      "[2020-05-10 02:05:59,183][INFO]   Wrote 6 joint images for UAB001-RF\n",
      "[2020-05-10 02:05:59,248][INFO]   Wrote 15 joint images for UAB001-RH\n",
      "[2020-05-10 02:05:59,288][INFO]   Wrote 6 joint images for UAB002-LF\n",
      "[2020-05-10 02:05:59,370][INFO]   Wrote 15 joint images for UAB002-LH\n",
      "[2020-05-10 02:05:59,406][INFO]   Wrote 6 joint images for UAB002-RF\n",
      "[2020-05-10 02:05:59,480][INFO]   Wrote 15 joint images for UAB002-RH\n",
      "[2020-05-10 02:05:59,481][INFO]    Wrote 84 joint images for 8\n",
      "[2020-05-10 02:05:59,481][INFO]   Complete!\n"
     ]
    }
   ],
   "source": [
    "joint_count = 0\n",
    "for i in range(len(dataset)):\n",
    "    #if i == 125:\n",
    "        image_id = dataset.imgs[i].strip('.jpg')\n",
    "        img,_ = dataset[i]\n",
    "        img = img.mul(255).permute(1,2,0).byte().numpy()\n",
    "        for j,box in enumerate(filtered_predictions[i][1]['boxes']):\n",
    "            xmin, ymin, xmax, ymax = box[0]\n",
    "            label = int(filtered_predictions[i][1]['labels'][j])\n",
    "            joint_img = Image.fromarray(img[int(np.ceil(ymin)):int(np.floor(ymax)),int(np.ceil(xmin)):int(np.floor(xmax)), :], 'RGB')\n",
    "            joint_img.save(os.path.join(JOINTOUTPUT, f'{image_id}-{label}.jpg'))\n",
    "            joint_count += 1\n",
    "        logger.info(f'Wrote {len(filtered_predictions[i][1][\"labels\"])} joint images for {image_id}')\n",
    "logger.info(f' Wrote {joint_count} joint images for {len(dataset)}')\n",
    "logger.info('Complete!')"
   ]
  },
  {
   "cell_type": "code",
   "execution_count": 37,
   "metadata": {},
   "outputs": [],
   "source": [
    "torch.cuda.empty_cache()"
   ]
  }
 ],
 "metadata": {
  "accelerator": "GPU",
  "colab": {
   "collapsed_sections": [],
   "name": "Copy of torchvision_finetuning_instance_segmentation.ipynb",
   "provenance": []
  },
  "kernelspec": {
   "display_name": "Python 3",
   "language": "python",
   "name": "python3"
  },
  "language_info": {
   "codemirror_mode": {
    "name": "ipython",
    "version": 3
   },
   "file_extension": ".py",
   "mimetype": "text/x-python",
   "name": "python",
   "nbconvert_exporter": "python",
   "pygments_lexer": "ipython3",
   "version": "3.7.4"
  },
  "widgets": {
   "application/vnd.jupyter.widget-state+json": {
    "0453a3e19be44d1d9bb80bfaeaf791c1": {
     "model_module": "@jupyter-widgets/base",
     "model_name": "LayoutModel",
     "state": {
      "_model_module": "@jupyter-widgets/base",
      "_model_module_version": "1.2.0",
      "_model_name": "LayoutModel",
      "_view_count": null,
      "_view_module": "@jupyter-widgets/base",
      "_view_module_version": "1.2.0",
      "_view_name": "LayoutView",
      "align_content": null,
      "align_items": null,
      "align_self": null,
      "border": null,
      "bottom": null,
      "display": null,
      "flex": null,
      "flex_flow": null,
      "grid_area": null,
      "grid_auto_columns": null,
      "grid_auto_flow": null,
      "grid_auto_rows": null,
      "grid_column": null,
      "grid_gap": null,
      "grid_row": null,
      "grid_template_areas": null,
      "grid_template_columns": null,
      "grid_template_rows": null,
      "height": null,
      "justify_content": null,
      "justify_items": null,
      "left": null,
      "margin": null,
      "max_height": null,
      "max_width": null,
      "min_height": null,
      "min_width": null,
      "object_fit": null,
      "object_position": null,
      "order": null,
      "overflow": null,
      "overflow_x": null,
      "overflow_y": null,
      "padding": null,
      "right": null,
      "top": null,
      "visibility": null,
      "width": null
     }
    },
    "4625f727c02b4bc390bc63e41a71f160": {
     "model_module": "@jupyter-widgets/base",
     "model_name": "LayoutModel",
     "state": {
      "_model_module": "@jupyter-widgets/base",
      "_model_module_version": "1.2.0",
      "_model_name": "LayoutModel",
      "_view_count": null,
      "_view_module": "@jupyter-widgets/base",
      "_view_module_version": "1.2.0",
      "_view_name": "LayoutView",
      "align_content": null,
      "align_items": null,
      "align_self": null,
      "border": null,
      "bottom": null,
      "display": null,
      "flex": null,
      "flex_flow": null,
      "grid_area": null,
      "grid_auto_columns": null,
      "grid_auto_flow": null,
      "grid_auto_rows": null,
      "grid_column": null,
      "grid_gap": null,
      "grid_row": null,
      "grid_template_areas": null,
      "grid_template_columns": null,
      "grid_template_rows": null,
      "height": null,
      "justify_content": null,
      "justify_items": null,
      "left": null,
      "margin": null,
      "max_height": null,
      "max_width": null,
      "min_height": null,
      "min_width": null,
      "object_fit": null,
      "object_position": null,
      "order": null,
      "overflow": null,
      "overflow_x": null,
      "overflow_y": null,
      "padding": null,
      "right": null,
      "top": null,
      "visibility": null,
      "width": null
     }
    },
    "49a6b019ee9640e4869de8a4a053abf1": {
     "model_module": "@jupyter-widgets/controls",
     "model_name": "HTMLModel",
     "state": {
      "_dom_classes": [],
      "_model_module": "@jupyter-widgets/controls",
      "_model_module_version": "1.5.0",
      "_model_name": "HTMLModel",
      "_view_count": null,
      "_view_module": "@jupyter-widgets/controls",
      "_view_module_version": "1.5.0",
      "_view_name": "HTMLView",
      "description": "",
      "description_tooltip": null,
      "layout": "IPY_MODEL_50a2d0864b2e4a3fba07236a9dc06ff8",
      "placeholder": "​",
      "style": "IPY_MODEL_8ad6c44dcacb4ea79dd9e26b0ff5188a",
      "value": " 160M/160M [00:40&lt;00:00, 4.11MB/s]"
     }
    },
    "50a2d0864b2e4a3fba07236a9dc06ff8": {
     "model_module": "@jupyter-widgets/base",
     "model_name": "LayoutModel",
     "state": {
      "_model_module": "@jupyter-widgets/base",
      "_model_module_version": "1.2.0",
      "_model_name": "LayoutModel",
      "_view_count": null,
      "_view_module": "@jupyter-widgets/base",
      "_view_module_version": "1.2.0",
      "_view_name": "LayoutView",
      "align_content": null,
      "align_items": null,
      "align_self": null,
      "border": null,
      "bottom": null,
      "display": null,
      "flex": null,
      "flex_flow": null,
      "grid_area": null,
      "grid_auto_columns": null,
      "grid_auto_flow": null,
      "grid_auto_rows": null,
      "grid_column": null,
      "grid_gap": null,
      "grid_row": null,
      "grid_template_areas": null,
      "grid_template_columns": null,
      "grid_template_rows": null,
      "height": null,
      "justify_content": null,
      "justify_items": null,
      "left": null,
      "margin": null,
      "max_height": null,
      "max_width": null,
      "min_height": null,
      "min_width": null,
      "object_fit": null,
      "object_position": null,
      "order": null,
      "overflow": null,
      "overflow_x": null,
      "overflow_y": null,
      "padding": null,
      "right": null,
      "top": null,
      "visibility": null,
      "width": null
     }
    },
    "8ad6c44dcacb4ea79dd9e26b0ff5188a": {
     "model_module": "@jupyter-widgets/controls",
     "model_name": "DescriptionStyleModel",
     "state": {
      "_model_module": "@jupyter-widgets/controls",
      "_model_module_version": "1.5.0",
      "_model_name": "DescriptionStyleModel",
      "_view_count": null,
      "_view_module": "@jupyter-widgets/base",
      "_view_module_version": "1.2.0",
      "_view_name": "StyleView",
      "description_width": ""
     }
    },
    "95305316dcd34c71ac1cb75c997c4b58": {
     "model_module": "@jupyter-widgets/controls",
     "model_name": "ProgressStyleModel",
     "state": {
      "_model_module": "@jupyter-widgets/controls",
      "_model_module_version": "1.5.0",
      "_model_name": "ProgressStyleModel",
      "_view_count": null,
      "_view_module": "@jupyter-widgets/base",
      "_view_module_version": "1.2.0",
      "_view_name": "StyleView",
      "bar_color": null,
      "description_width": "initial"
     }
    },
    "c63e1e5a3e59405f8a656259859d28c8": {
     "model_module": "@jupyter-widgets/controls",
     "model_name": "IntProgressModel",
     "state": {
      "_dom_classes": [],
      "_model_module": "@jupyter-widgets/controls",
      "_model_module_version": "1.5.0",
      "_model_name": "IntProgressModel",
      "_view_count": null,
      "_view_module": "@jupyter-widgets/controls",
      "_view_module_version": "1.5.0",
      "_view_name": "ProgressView",
      "bar_style": "success",
      "description": "100%",
      "description_tooltip": null,
      "layout": "IPY_MODEL_0453a3e19be44d1d9bb80bfaeaf791c1",
      "max": 167502836,
      "min": 0,
      "orientation": "horizontal",
      "style": "IPY_MODEL_95305316dcd34c71ac1cb75c997c4b58",
      "value": 167502836
     }
    },
    "cc3721079bb84b0182a2c194721b7405": {
     "model_module": "@jupyter-widgets/controls",
     "model_name": "HBoxModel",
     "state": {
      "_dom_classes": [],
      "_model_module": "@jupyter-widgets/controls",
      "_model_module_version": "1.5.0",
      "_model_name": "HBoxModel",
      "_view_count": null,
      "_view_module": "@jupyter-widgets/controls",
      "_view_module_version": "1.5.0",
      "_view_name": "HBoxView",
      "box_style": "",
      "children": [
       "IPY_MODEL_c63e1e5a3e59405f8a656259859d28c8",
       "IPY_MODEL_49a6b019ee9640e4869de8a4a053abf1"
      ],
      "layout": "IPY_MODEL_4625f727c02b4bc390bc63e41a71f160"
     }
    }
   }
  }
 },
 "nbformat": 4,
 "nbformat_minor": 1
}
